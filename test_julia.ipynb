{
 "cells": [
  {
   "cell_type": "code",
   "execution_count": 1,
   "metadata": {},
   "outputs": [
    {
     "name": "stderr",
     "output_type": "stream",
     "text": [
      "\u001b[32m\u001b[1m    Building\u001b[22m\u001b[39m Conda ─→ `~/.julia/scratchspaces/44cfe95a-1eb2-52ea-b672-e2afdf69b78f/51cab8e982c5b598eea9c8ceaced4b58d9dd37c9/build.log`\n",
      "\u001b[32m\u001b[1m    Building\u001b[22m\u001b[39m PyCall → `~/.julia/scratchspaces/44cfe95a-1eb2-52ea-b672-e2afdf69b78f/9816a3826b0ebf49ab4926e2b18842ad8b5c8f04/build.log`\n"
     ]
    }
   ],
   "source": [
    "using Pkg\n",
    "using PyCall\n",
    "Pkg.build(\"PyCall\")\n",
    "\n",
    "project_dir = pwd()\n",
    "font_path = joinpath(project_dir, \"font\")\n",
    "pushfirst!(PyVector(pyimport(\"sys\").\"path\"), font_path)\n",
    "@pyimport letters as letters"
   ]
  },
  {
   "cell_type": "code",
   "execution_count": 2,
   "metadata": {},
   "outputs": [
    {
     "data": {
      "text/plain": [
       "26×3 Matrix{Float64}:\n",
       " 1.4       1.0       0.0\n",
       " 1.19497   1.70711   0.0\n",
       " 0.7       2.0       0.0\n",
       " 0.205025  1.70711   0.0\n",
       " 0.0       1.0       0.0\n",
       " 0.205025  0.292893  0.0\n",
       " 0.7       0.0       0.0\n",
       " 1.19497   0.292893  0.0\n",
       " 4.5       2.0       0.0\n",
       " 3.43934   1.70711   0.0\n",
       " ⋮                   \n",
       " 6.5       2.0       0.0\n",
       " 7.0       2.0       0.0\n",
       " 6.75      1.0       0.0\n",
       " 7.0       0.5       0.0\n",
       " 7.5       0.0       0.0\n",
       " 9.0       0.0       0.0\n",
       " 9.0       1.0       0.0\n",
       " 9.0       2.0       0.0\n",
       " 9.66      0.0       0.0"
      ]
     },
     "metadata": {},
     "output_type": "display_data"
    }
   ],
   "source": [
    "goal_positions = letters.Letters(text=\"OCRL\", height=2, start=[0,0,0], viz=false).positions\n",
    "goal_positions"
   ]
  }
 ],
 "metadata": {
  "kernelspec": {
   "display_name": "Julia 1.6.7",
   "language": "julia",
   "name": "julia-1.6"
  },
  "language_info": {
   "file_extension": ".jl",
   "mimetype": "application/julia",
   "name": "julia",
   "version": "1.6.7"
  }
 },
 "nbformat": 4,
 "nbformat_minor": 2
}
